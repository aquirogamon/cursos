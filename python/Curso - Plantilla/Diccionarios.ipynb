{
 "cells": [
  {
   "cell_type": "code",
   "execution_count": 5,
   "metadata": {},
   "outputs": [
    {
     "name": "stdout",
     "output_type": "stream",
     "text": [
      "{'a': 100, 5: 'esto es un string', (1, 2): True}\n",
      "{'a': 100, 5: 'esto es un string', (1, 2): True, 'c': 'nuevo string'}\n"
     ]
    }
   ],
   "source": [
    "diccionario = {\"a\":10, 5:\"esto es un string\", (1, 2):True, \"a\":False, \"a\":100}\n",
    "print(diccionario)\n",
    "diccionario[\"c\"] = \"nuevo string\"\n",
    "print(diccionario)"
   ]
  }
 ],
 "metadata": {
  "kernelspec": {
   "display_name": "Python 3",
   "language": "python",
   "name": "python3"
  },
  "language_info": {
   "codemirror_mode": {
    "name": "ipython",
    "version": 3
   },
   "file_extension": ".py",
   "mimetype": "text/x-python",
   "name": "python",
   "nbconvert_exporter": "python",
   "pygments_lexer": "ipython3",
   "version": "3.6.5"
  }
 },
 "nbformat": 4,
 "nbformat_minor": 2
}
