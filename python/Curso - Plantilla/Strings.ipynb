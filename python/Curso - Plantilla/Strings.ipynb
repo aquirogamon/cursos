{
 "cells": [
  {
   "cell_type": "code",
   "execution_count": 2,
   "metadata": {},
   "outputs": [
    {
     "name": "stdout",
     "output_type": "stream",
     "text": [
      "Hola!!!\n"
     ]
    }
   ],
   "source": [
    "my_string = 'Hola!!!'\n",
    "print (my_string)"
   ]
  },
  {
   "cell_type": "code",
   "execution_count": 3,
   "metadata": {},
   "outputs": [
    {
     "name": "stdout",
     "output_type": "stream",
     "text": [
      "Hola hijas!!!, 'Mia y Alissa'\n"
     ]
    }
   ],
   "source": [
    "my_string = \"Hola hijas!!!, 'Mia y Alissa'\"\n",
    "print (my_string)"
   ]
  },
  {
   "cell_type": "code",
   "execution_count": 4,
   "metadata": {},
   "outputs": [
    {
     "name": "stdout",
     "output_type": "stream",
     "text": [
      "Hola hijas!!!\n",
      "'Mia y Alissa'\n"
     ]
    }
   ],
   "source": [
    "my_string = \"Hola hijas!!!\\n'Mia y Alissa'\"\n",
    "print (my_string)"
   ]
  },
  {
   "cell_type": "code",
   "execution_count": 5,
   "metadata": {},
   "outputs": [
    {
     "name": "stdout",
     "output_type": "stream",
     "text": [
      "Hola hijas!!!\n",
      "'Mia y Alissa'\n"
     ]
    }
   ],
   "source": [
    "my_string = \"\"\"Hola hijas!!!\n",
    "'Mia y Alissa'\"\"\"\n",
    "print (my_string)"
   ]
  },
  {
   "cell_type": "code",
   "execution_count": 10,
   "metadata": {},
   "outputs": [
    {
     "name": "stdout",
     "output_type": "stream",
     "text": [
      "Nuevo curso de Python3 por Armando\n"
     ]
    }
   ],
   "source": [
    "course = \"Python3\"\n",
    "name = \"Armando\"\n",
    "final_message = \"Nuevo curso de \" + course + \" por \" + name #1\n",
    "final_message = \"Nuevo curso de %s por %s\" %(course, name) #2\n",
    "final_message = \"Nuevo curso de {} por {}\".format(course, name) #3\n",
    "print (final_message)"
   ]
  }
 ],
 "metadata": {
  "kernelspec": {
   "display_name": "Python 3",
   "language": "python",
   "name": "python3"
  },
  "language_info": {
   "codemirror_mode": {
    "name": "ipython",
    "version": 3
   },
   "file_extension": ".py",
   "mimetype": "text/x-python",
   "name": "python",
   "nbconvert_exporter": "python",
   "pygments_lexer": "ipython3",
   "version": "3.6.5"
  }
 },
 "nbformat": 4,
 "nbformat_minor": 2
}
