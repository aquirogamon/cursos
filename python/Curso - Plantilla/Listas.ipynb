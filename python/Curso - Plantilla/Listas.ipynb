{
 "cells": [
  {
   "cell_type": "code",
   "execution_count": 15,
   "metadata": {},
   "outputs": [
    {
     "name": "stdout",
     "output_type": "stream",
     "text": [
      "['string', 'insert', 5.8, True, 6, 10]\n",
      "['string', 'insert', 5.8, True, 6]\n",
      "10\n",
      "[-1, 1, 2, 4, 5, 6, 8, 9]\n",
      "[9, 8, 6, 5, 4, 2, 1, -1]\n",
      "[9, 8, 6, 5, 4, 2, 1, -1, 15, 50]\n",
      "[9, 8, 6, 5, 4, 2, 1, -1, 15, 50, [15, 50]]\n"
     ]
    }
   ],
   "source": [
    "my_list = [\"string\", 10, 5.8, True]\n",
    "my_list.append(6)\n",
    "my_list.insert(1, \"insert\")\n",
    "my_list.insert(6, 10)\n",
    "my_list.remove(10)\n",
    "print(my_list)\n",
    "last_value = my_list.pop()\n",
    "print(my_list)\n",
    "print(last_value)\n",
    "\n",
    "new_list = [1, 5, 2, 8, 6, 4, 9, -1]\n",
    "new_list.sort()\n",
    "print(new_list)\n",
    "new_list.sort(reverse = True)\n",
    "print(new_list)\n",
    "\n",
    "my_list_two = [15, 50]\n",
    "new_list.extend(my_list_two)\n",
    "print(new_list)\n",
    "new_list.append(my_list_two)\n",
    "print(new_list)"
   ]
  }
 ],
 "metadata": {
  "kernelspec": {
   "display_name": "Python 3",
   "language": "python",
   "name": "python3"
  },
  "language_info": {
   "codemirror_mode": {
    "name": "ipython",
    "version": 3
   },
   "file_extension": ".py",
   "mimetype": "text/x-python",
   "name": "python",
   "nbconvert_exporter": "python",
   "pygments_lexer": "ipython3",
   "version": "3.6.5"
  }
 },
 "nbformat": 4,
 "nbformat_minor": 2
}
