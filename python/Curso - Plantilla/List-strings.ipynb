{
 "cells": [
  {
   "cell_type": "code",
   "execution_count": 18,
   "metadata": {},
   "outputs": [
    {
     "name": "stdout",
     "output_type": "stream",
     "text": [
      "Curso de Python3!\n",
      "u\n",
      "y\n",
      "!\n",
      "Python3!\n",
      "3\n",
      "Crod \n",
      "!3nohtyP ed osruC\n"
     ]
    }
   ],
   "source": [
    "my_string = \"Curso de Python3!\"\n",
    "print (my_string)\n",
    "print (my_string[1])\n",
    "print (my_string[10])\n",
    "print (my_string[-1])\n",
    "print (my_string[9:20])\n",
    "print (my_string[-2:-1])\n",
    "print (my_string[0:10:2])\n",
    "print (my_string[::-1])"
   ]
  }
 ],
 "metadata": {
  "kernelspec": {
   "display_name": "Python 3",
   "language": "python",
   "name": "python3"
  },
  "language_info": {
   "codemirror_mode": {
    "name": "ipython",
    "version": 3
   },
   "file_extension": ".py",
   "mimetype": "text/x-python",
   "name": "python",
   "nbconvert_exporter": "python",
   "pygments_lexer": "ipython3",
   "version": "3.6.5"
  }
 },
 "nbformat": 4,
 "nbformat_minor": 2
}
