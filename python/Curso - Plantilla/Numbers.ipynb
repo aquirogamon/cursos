{
 "cells": [
  {
   "cell_type": "code",
   "execution_count": 2,
   "metadata": {},
   "outputs": [],
   "source": [
    "number_one = 10\n",
    "number_two = 4"
   ]
  },
  {
   "cell_type": "code",
   "execution_count": 6,
   "metadata": {},
   "outputs": [
    {
     "name": "stdout",
     "output_type": "stream",
     "text": [
      "La suma es:  14\n"
     ]
    }
   ],
   "source": [
    "result = number_one + number_two\n",
    "print (\"La suma es: \", result)"
   ]
  },
  {
   "cell_type": "code",
   "execution_count": 7,
   "metadata": {},
   "outputs": [
    {
     "name": "stdout",
     "output_type": "stream",
     "text": [
      "La resta es:  6\n"
     ]
    }
   ],
   "source": [
    "result = number_one - number_two\n",
    "print (\"La resta es: \", result)"
   ]
  },
  {
   "cell_type": "code",
   "execution_count": 8,
   "metadata": {},
   "outputs": [
    {
     "name": "stdout",
     "output_type": "stream",
     "text": [
      "La multiplicación es:  40\n"
     ]
    }
   ],
   "source": [
    "result = number_one * number_two\n",
    "print (\"La multiplicación es: \", result)"
   ]
  },
  {
   "cell_type": "code",
   "execution_count": 9,
   "metadata": {},
   "outputs": [
    {
     "name": "stdout",
     "output_type": "stream",
     "text": [
      "La división es:  2.5\n"
     ]
    }
   ],
   "source": [
    "result = number_one / number_two #Regresa número flotante\n",
    "print (\"La división es: \", result)"
   ]
  },
  {
   "cell_type": "code",
   "execution_count": 12,
   "metadata": {},
   "outputs": [
    {
     "name": "stdout",
     "output_type": "stream",
     "text": [
      "La división en entero es:  2\n"
     ]
    }
   ],
   "source": [
    "result = number_one // number_two #Regresa número entero\n",
    "print (\"La división en entero es: \", result)"
   ]
  },
  {
   "cell_type": "code",
   "execution_count": 13,
   "metadata": {},
   "outputs": [
    {
     "name": "stdout",
     "output_type": "stream",
     "text": [
      "El resultado es:  10000\n"
     ]
    }
   ],
   "source": [
    "result = number_one ** number_two #Regresa resultado exponencial\n",
    "print (\"El resultado es: \", result)"
   ]
  }
 ],
 "metadata": {
  "kernelspec": {
   "display_name": "Python 3",
   "language": "python",
   "name": "python3"
  },
  "language_info": {
   "codemirror_mode": {
    "name": "ipython",
    "version": 3
   },
   "file_extension": ".py",
   "mimetype": "text/x-python",
   "name": "python",
   "nbconvert_exporter": "python",
   "pygments_lexer": "ipython3",
   "version": "3.6.5"
  }
 },
 "nbformat": 4,
 "nbformat_minor": 2
}
