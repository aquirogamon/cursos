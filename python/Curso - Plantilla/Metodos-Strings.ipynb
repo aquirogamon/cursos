{
 "cells": [
  {
   "cell_type": "code",
   "execution_count": 13,
   "metadata": {},
   "outputs": [
    {
     "name": "stdout",
     "output_type": "stream",
     "text": [
      "Python3 de Código Facilito en Curso\n",
      "Curso de Python3 en Código Facilito\n",
      "Curso de Python3 en Código Facilito\n",
      "curso de python3 en código facilito\n",
      "CURSO DE PYTHON3 EN CÓDIGO FACILITO\n",
      "Curso De Python3 En Código Facilito\n",
      "20\n",
      "C\n",
      "2\n",
      "Xurso De Python3 En Xódigo Facilito\n",
      "['Curso', 'De', 'Python3', 'En', 'Código', 'Facilito']\n"
     ]
    }
   ],
   "source": [
    "my_type = \"Curso\"\n",
    "my_string = \"Código Facilito\"\n",
    "course = \"Python3\"\n",
    "\n",
    "\"\"\" Formato \"\"\"\n",
    "result = \"{} de {} en {}\".format(course, my_string, my_type)\n",
    "print(result)\n",
    "result = \"{} de {} en {}\".format(my_type, course, my_string)\n",
    "print(result)\n",
    "result = \"{a} de {b} en {c}\".format(b=course, c=my_string, a=my_type)\n",
    "print(result)\n",
    "result = result.lower() #Cambia a minúscula\n",
    "print(result)\n",
    "result = result.upper() #Cambia a mayúscula\n",
    "print(result)\n",
    "result = result.title() #Cambia a modo título\n",
    "print(result)\n",
    "\n",
    "\"\"\" Busqueda \"\"\"\n",
    "pos = result.find(\"Código\")\n",
    "count = result.count(\"C\")\n",
    "print(pos)\n",
    "print(result[20])\n",
    "print(count)\n",
    "\n",
    "new_string = result.replace(\"C\", \"X\")\n",
    "print(new_string)\n",
    "new_string = result.split(\" \")\n",
    "print(new_string)"
   ]
  }
 ],
 "metadata": {
  "kernelspec": {
   "display_name": "Python 3",
   "language": "python",
   "name": "python3"
  },
  "language_info": {
   "codemirror_mode": {
    "name": "ipython",
    "version": 3
   },
   "file_extension": ".py",
   "mimetype": "text/x-python",
   "name": "python",
   "nbconvert_exporter": "python",
   "pygments_lexer": "ipython3",
   "version": "3.6.5"
  }
 },
 "nbformat": 4,
 "nbformat_minor": 2
}
